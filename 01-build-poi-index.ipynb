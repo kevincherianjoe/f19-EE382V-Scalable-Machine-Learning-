{
 "nbformat": 4,
 "nbformat_minor": 2,
 "metadata": {
  "language_info": {
   "name": "python",
   "codemirror_mode": {
    "name": "ipython",
    "version": 3
   },
   "version": "3.7.3"
  },
  "orig_nbformat": 2,
  "file_extension": ".py",
  "mimetype": "text/x-python",
  "name": "python",
  "npconvert_exporter": "python",
  "pygments_lexer": "ipython3",
  "version": 3
 },
 "cells": [
  {
   "cell_type": "markdown",
   "execution_count": null,
   "metadata": {},
   "outputs": [],
   "source": [
    "# Factors Driving Austin Housing Prices\n",
    "## Build POI Index\n",
    "Ricardo Dunia (duniarh)\n",
    "<br/>\n",
    "Kevin John Cherian Joseph (kc43529)\n",
    "<br/>\n",
    "Arnob Mallick (am93746)"
   ]
  },
  {
   "cell_type": "code",
   "execution_count": 21,
   "metadata": {},
   "outputs": [],
   "source": [
    "import pandas as pd\n",
    "import numpy as np\n",
    "import json\n",
    "import requests\n",
    "import time\n",
    "import csv"
   ]
  },
  {
   "cell_type": "code",
   "execution_count": 22,
   "metadata": {},
   "outputs": [],
   "source": [
    "# foursquare config and secrets\n",
    "clientId = 'your-client-id'\n",
    "clientSecret = 'your-client-secret'\n",
    "url = 'https://api.foursquare.com/v2/venues/search'"
   ]
  },
  {
   "cell_type": "code",
   "execution_count": 23,
   "metadata": {},
   "outputs": [],
   "source": [
    "# define parameters for austin grid segmentation\n",
    "segLat = 50\n",
    "segLon = 50\n",
    "minLat = 30.0727239\n",
    "maxLat = 30.5193782\n",
    "minLon = -98.0158212\n",
    "maxLon = -97.4053586\n",
    "delLat = (maxLat - minLat) / segLat\n",
    "delLon = (maxLon - minLon) / segLon"
   ]
  },
  {
   "cell_type": "code",
   "execution_count": 27,
   "metadata": {},
   "outputs": [],
   "source": [
    "# function to generate a generic property index\n",
    "def generateIndex(categories, query, radius, byCategory=True):\n",
    "    genIndex = [[ 0 for x in range(segLon)] for y in range(segLat)]\n",
    "\n",
    "    # track if api requests have been limited\n",
    "    rateLimited = False\n",
    "\n",
    "    # iterate through segments\n",
    "    for lon in range(segLon):\n",
    "        if rateLimited:\n",
    "            break\n",
    "            \n",
    "        for lat in range(segLat):\n",
    "            if rateLimited:\n",
    "                break\n",
    "\n",
    "            searchLat = minLat + (delLat * (lat + 0.5))\n",
    "            searchLon = minLon + (delLon * (lon + 0.5))\n",
    "\n",
    "            # build query parameters\n",
    "            params = dict(\n",
    "                client_id=clientId,\n",
    "                client_secret=clientSecret,\n",
    "                ll=(str(searchLat) + ',' + str(searchLon)),\n",
    "                intent='browse',\n",
    "                v='20180323',\n",
    "                radius=radius,\n",
    "                limit=50\n",
    "            )\n",
    "            if byCategory:\n",
    "                params['categoryId'] = categories\n",
    "            else:\n",
    "                params['query'] = query\n",
    "\n",
    "            # make the request to foursquare\n",
    "            resp = requests.get(url=url, params=params)\n",
    "            if (resp.status_code != 200):\n",
    "                time.sleep(0.1)\n",
    "                resp = requests.get(url=url, params=params)\n",
    "            if (resp.status_code != 200):\n",
    "                time.sleep(0.1)\n",
    "                resp = requests.get(url=url, params=params)\n",
    "            if (resp.status_code != 200):\n",
    "                time.sleep(0.1)\n",
    "                resp = requests.get(url=url, params=params)\n",
    "\n",
    "            data = json.loads(resp.text)\n",
    "            if data['response']:\n",
    "                numLocs = len(data['response']['venues'])\n",
    "                genIndex[lat][lon] = numLocs \n",
    "                print('\\rbuilt: {} with {} locations'.format(str(lat) + 'x' + str(lon), numLocs), end=\"\\r\")\n",
    "            else:\n",
    "                print('api rate limit exceeded')\n",
    "                print(data)\n",
    "                rateLimited = True\n",
    "            \n",
    "            # sleep before moving to the next block\n",
    "            time.sleep(0.5)\n",
    "\n",
    "    return genIndex"
   ]
  },
  {
   "cell_type": "code",
   "execution_count": 29,
   "metadata": {},
   "outputs": [
    {
     "name": "stdout",
     "output_type": "stream",
     "text": "built: 49x49 with 0 locations"
    }
   ],
   "source": [
    "# define feature\n",
    "targetQuery = ''\n",
    "targetCategoryIds = ''\n",
    "\n",
    "# generate and save output\n",
    "genIndex = generateIndex(targetCategoryIds, targetQuery, 1500, False)\n",
    "with open('./data/poi_index_' + targetQuery.replace(' ', '_') + '.csv', 'w', newline='') as file:\n",
    "    writer = csv.writer(file)\n",
    "    writer.writerows(genIndex)"
   ]
  },
  {
   "cell_type": "code",
   "execution_count": null,
   "metadata": {},
   "outputs": [],
   "source": []
  }
 ]
}