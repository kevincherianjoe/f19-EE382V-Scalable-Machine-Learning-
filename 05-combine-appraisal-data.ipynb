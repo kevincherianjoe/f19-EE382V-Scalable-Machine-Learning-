{
 "cells": [
  {
   "cell_type": "markdown",
   "execution_count": null,
   "metadata": {},
   "outputs": [],
   "source": [
    "# Factors Driving Austin Housing Prices\n",
    "## Join Appraisals to Housing Data\n",
    "Ricardo Dunia (duniarh)\n",
    "<br/>\n",
    "Kevin John Cherian Joseph (kc43529)\n",
    "<br/>\n",
    "Arnob Mallick (am93746)"
   ]
  },
  {
   "cell_type": "code",
   "execution_count": 4,
   "metadata": {},
   "outputs": [],
   "source": [
    "import difflib\n",
    "import pandas as pd\n",
    "import multiprocessing as mp\n",
    "\n",
    "housing_df = pd.read_csv('./data/raw_austin_housing_data_w_crime_density_poi.csv', low_memory=False)"
   ]
  },
  {
   "cell_type": "code",
   "execution_count": 5,
   "metadata": {},
   "outputs": [],
   "source": [
    "# Custom get_close_matches that returns indices instead of values\n",
    "from fuzzywuzzy import fuzz\n",
    "from fuzzywuzzy import process\n",
    "\n",
    "def find_matches(addr, no, choices):\n",
    "    best_match = -1\n",
    "    if addr == '' or no == '':\n",
    "        return best_match\n",
    "\n",
    "    filtered_choices = { idx: choices['addr_street'][idx] for idx in choices['addr_street'] if choices['addr_no'][idx] == no }\n",
    "    matches = []\n",
    "    try:\n",
    "        matches = process.extract(addr, filtered_choices, limit=3)\n",
    "    except:\n",
    "        return best_match\n",
    "\n",
    "    # validate the matches\n",
    "    for match in matches:\n",
    "        idx = match[2]\n",
    "        score = match[1]\n",
    "        if choices['addr_no'][idx] == no and score > 80:\n",
    "            best_match = idx\n",
    "            break\n",
    "\n",
    "    return best_match"
   ]
  },
  {
   "cell_type": "code",
   "execution_count": 6,
   "metadata": {},
   "outputs": [],
   "source": [
    "# build Address\n",
    "housing_df['Address'] = housing_df[['streetLine', 'state', 'zip']].apply(lambda x: ' '.join(x.map(str)), axis=1)\n",
    "\n",
    "# remove addresses that aren't properly filled out\n",
    "housing_df['Address'] = housing_df['Address'].apply(lambda x: x if str(x.split(' ')[0].isdigit()) else '')\n",
    "housing_df = housing_df[housing_df['Address'] != '']\n",
    "\n",
    "# extract house number and tirm the address\n",
    "housing_df['Number'] = housing_df['Address'].apply(lambda x: x.split(' ')[0])\n",
    "housing_df['Address'] = housing_df['Address'].apply(lambda x: ' '.join(x.split(' ')[1:-1]).replace('TX', '').strip())\n",
    "\n",
    "# create an index column\n",
    "housing_df['idx'] = housing_df.index"
   ]
  },
  {
   "cell_type": "code",
   "execution_count": 7,
   "metadata": {},
   "outputs": [],
   "source": [
    "# store zip code data in bins\n",
    "zip_bins = { }\n",
    "\n",
    "# Function to take a house row and find it's appraisal match\n",
    "def findAppraisal(housing_df_row):\n",
    "    zip_str = str(int(housing_df_row[1]['zip']))\n",
    "    if zip_str in zip_bins:\n",
    "        match = find_matches(housing_df_row[1]['Address'], housing_df_row[1]['Number'], zip_bins[zip_str])\n",
    "        if match != -1:\n",
    "            idx = housing_df_row[1]['idx']\n",
    "            return { 'idx': idx, 'val': zip_bins[zip_str]['appraisal'][match], 'match': True }\n",
    "    return { 'match': False }"
   ]
  },
  {
   "cell_type": "code",
   "execution_count": 11,
   "metadata": {},
   "outputs": [],
   "source": [
    "# function to add appraisal data\n",
    "def add_appraisal_data(year):\n",
    "    print('\\n\\nBuilding appraisal data for ' + year)\n",
    "    global zip_bins\n",
    "\n",
    "    # load data\n",
    "    appraisal_df = pd.read_csv('./data/austin_appraisal_data_' + year + '.csv', low_memory=False)\n",
    "\n",
    "    # Remove properties that are doing some business\n",
    "    # appraisal_df = appraisal_df[appraisal_df['Doing Business As'].isnull()]\n",
    "\n",
    "    # Eliminate rows from appraisal dataset with addresses that cannot be mapped\n",
    "    appraisal_df = appraisal_df[appraisal_df['Property Address'].str.strip().str[0].str.isdigit()]\n",
    "\n",
    "    # Remove commas from appraisal values\n",
    "    appraisal_df['Appraised Value'] = appraisal_df['Appraised Value'].str.replace(',','').astype(int)\n",
    "\n",
    "    # Create an array of the appraisal row addresses\n",
    "    appraisal_addresses = list(appraisal_df['Property Address'])\n",
    "    appraisal_addr_no = [address.split(' ')[0] for address in appraisal_addresses]\n",
    "    appraisal_addr_str = [' '.join(address.split(' ')[1:-1]).replace('TX', '').strip() for address in appraisal_addresses]\n",
    "    appraisal_zip_codes = [address.split(' ')[-1] for address in appraisal_addresses]\n",
    "    appraisal_zip_codes = [zip.split('-')[0] for zip in appraisal_zip_codes]\n",
    "    appraisal_values = list(appraisal_df['Appraised Value'])\n",
    "\n",
    "    # Split these arrays into zipcode groups\n",
    "    zip_bins = { appraisal_zip_codes[idx]: { 'addr_no': { }, 'addr_street': { }, 'appraisal': { } } for idx in range(len(appraisal_zip_codes)) }\n",
    "    for idx in range(len(appraisal_zip_codes)):\n",
    "        zip = appraisal_zip_codes[idx]\n",
    "        zip_bins[zip]['addr_street'][idx] = appraisal_addr_str[idx]\n",
    "        zip_bins[zip]['appraisal'][idx] = appraisal_values[idx]\n",
    "        zip_bins[zip]['addr_no'][idx] = appraisal_addr_no[idx]\n",
    "\n",
    "    # Initialize Appraisal column\n",
    "    housing_df[year + ' Appraisal'] = 0\n",
    "\n",
    "    # Log the data size\n",
    "    print('Looking at ' + str(len(housing_df)) + ' houses and ' + str(len(appraisal_df)) + ' appraisal data points')\n",
    "\n",
    "    # Parallelize computation\n",
    "    count = 0\n",
    "    match = 0\n",
    "    with mp.Pool(int(mp.cpu_count() / 2)) as pool:\n",
    "        results = pool.imap(findAppraisal, housing_df.iterrows(), chunksize=50)\n",
    "        for result in results:\n",
    "            count += 1\n",
    "            if result['match']:\n",
    "                housing_df.at[housing_df.index[result['idx']], year + ' Appraisal'] = result['val']\n",
    "                match += 1\n",
    "            print('\\rProcessing house no: {}. Found {} matches so far.'.format(count, match), end=\"\\r\")"
   ]
  },
  {
   "cell_type": "code",
   "execution_count": 12,
   "metadata": {},
   "outputs": [
    {
     "name": "stdout",
     "output_type": "stream",
     "text": "\n\nBuilding appraisal data for 2015\nLooking at 61793 houses and 381875 appraisal data points\nProcessing house no: 61793. Found 39731 matches so far.\n\nBuilding appraisal data for 2019\nLooking at 61793 houses and 405597 appraisal data points\nProcessing house no: 61793. Found 40642 matches so far."
    }
   ],
   "source": [
    "add_appraisal_data('2015')\n",
    "add_appraisal_data('2019')"
   ]
  },
  {
   "cell_type": "code",
   "execution_count": 13,
   "metadata": {},
   "outputs": [],
   "source": [
    "housing_df.to_csv('./data/raw_austin_housing_data_w_crime_density_poi_appraisals.csv')"
   ]
  },
  {
   "cell_type": "code",
   "execution_count": null,
   "metadata": {},
   "outputs": [],
   "source": []
  }
 ],
 "metadata": {
  "kernelspec": {
   "display_name": "Python 3",
   "language": "python",
   "name": "python3"
  },
  "language_info": {
   "codemirror_mode": {
    "name": "ipython",
    "version": 3
   },
   "file_extension": ".py",
   "mimetype": "text/x-python",
   "name": "python",
   "nbconvert_exporter": "python",
   "pygments_lexer": "ipython3",
   "version": "3.7.3"
  }
 },
 "nbformat": 4,
 "nbformat_minor": 2
}