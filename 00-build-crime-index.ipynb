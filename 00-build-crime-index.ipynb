{
 "nbformat": 4,
 "nbformat_minor": 2,
 "metadata": {
  "language_info": {
   "name": "python",
   "codemirror_mode": {
    "name": "ipython",
    "version": 3
   },
   "version": "3.7.3"
  },
  "orig_nbformat": 2,
  "file_extension": ".py",
  "mimetype": "text/x-python",
  "name": "python",
  "npconvert_exporter": "python",
  "pygments_lexer": "ipython3",
  "version": 3
 },
 "cells": [
  {
   "cell_type": "code",
   "execution_count": 1,
   "metadata": {},
   "outputs": [],
   "source": [
    "import pandas as pd\n",
    "import csv\n",
    "\n",
    "from datetime import datetime"
   ]
  },
  {
   "cell_type": "code",
   "execution_count": 6,
   "metadata": {},
   "outputs": [],
   "source": [
    "import math\n",
    "\n",
    "# function for calculating Haversine distance\n",
    "def distance(origin, destination):\n",
    "    \"\"\"\n",
    "    Calculate the Haversine distance.\n",
    "\n",
    "    Parameters\n",
    "    ----------\n",
    "    origin : tuple of float\n",
    "        (lat, long)\n",
    "    destination : tuple of float\n",
    "        (lat, long)\n",
    "\n",
    "    Returns\n",
    "    -------\n",
    "    distance_in_km : float\n",
    "\n",
    "    Examples\n",
    "    --------\n",
    "    >>> origin = (48.1372, 11.5756)  # Munich\n",
    "    >>> destination = (52.5186, 13.4083)  # Berlin\n",
    "    >>> round(distance(origin, destination), 1)\n",
    "    504.2\n",
    "    \"\"\"\n",
    "    lat1, lon1 = origin\n",
    "    lat2, lon2 = destination\n",
    "    radius = 6371  # km\n",
    "\n",
    "    dlat = math.radians(lat2 - lat1)\n",
    "    dlon = math.radians(lon2 - lon1)\n",
    "    a = (math.sin(dlat / 2) * math.sin(dlat / 2) +\n",
    "         math.cos(math.radians(lat1)) * math.cos(math.radians(lat2)) *\n",
    "         math.sin(dlon / 2) * math.sin(dlon / 2))\n",
    "    c = 2 * math.atan2(math.sqrt(a), math.sqrt(1 - a))\n",
    "    d = radius * c\n",
    "    return d"
   ]
  },
  {
   "cell_type": "code",
   "execution_count": 7,
   "metadata": {},
   "outputs": [],
   "source": [
    "# load the datasets\n",
    "crime_df = pd.read_csv('./data/raw_crime_data.csv')"
   ]
  },
  {
   "cell_type": "code",
   "execution_count": 8,
   "metadata": {},
   "outputs": [],
   "source": [
    "# convert the columns with date information into a datetime format\n",
    "crime_df['report_dt'] = pd.to_datetime(crime_df['Report Date Time'],format='%m/%d/%Y %I:%M:%S %p')\n",
    "crime_df['occurred_dt'] = pd.to_datetime(crime_df['Occurred Date Time'],format='%m/%d/%Y %I:%M:%S %p')\n",
    "# and drop the columns that we don't need anymore\n",
    "crime_df.drop([\n",
    "    'Report Date Time',\n",
    "    'Occurred Date Time',\n",
    "    'Report Date',\n",
    "    'Report Time',\n",
    "    'Occurred Date',\n",
    "    'Occurred Time'], axis=1, inplace=True)"
   ]
  },
  {
   "cell_type": "code",
   "execution_count": 9,
   "metadata": {},
   "outputs": [
    {
     "name": "stdout",
     "output_type": "stream",
     "text": "before:  2118562\nafter:   2082121\n"
    }
   ],
   "source": [
    "# clean up bad data\n",
    "minLatBound = 30.0727239\n",
    "maxLatBound = 30.5193782\n",
    "minLonBound = -98.0158212\n",
    "maxLonBound = -97.4053586\n",
    "\n",
    "print('before: ', len(crime_df))\n",
    "crime_df = crime_df[crime_df['report_dt'].isnull() == False]\n",
    "crime_df = crime_df[crime_df['occurred_dt'].isnull() == False]\n",
    "crime_df = crime_df[crime_df['Latitude'] > minLatBound]\n",
    "crime_df = crime_df[crime_df['Latitude'] < maxLatBound]\n",
    "crime_df = crime_df[crime_df['Longitude'] > minLonBound]\n",
    "crime_df = crime_df[crime_df['Longitude'] < maxLonBound]\n",
    "print('after:  ', len(crime_df))"
   ]
  },
  {
   "cell_type": "code",
   "execution_count": 11,
   "metadata": {},
   "outputs": [],
   "source": [
    "# define parameters for segmentation\n",
    "segLat = 200\n",
    "segLon = 200\n",
    "minLat = crime_df['Latitude'].min()\n",
    "maxLat = crime_df['Latitude'].max()\n",
    "minLon = crime_df['Longitude'].min()\n",
    "maxLon = crime_df['Longitude'].max()\n",
    "delLat = (maxLat - minLat) / segLat\n",
    "delLon = (maxLon - minLon) / segLon\n",
    "\n",
    "# instantiate the grid\n",
    "segmented_df = [[0 for x in range(segLon)] for y in range(segLat)]\n",
    "# precompute crime totals in each segment\n",
    "precomputed_ci = [[{ } for x in range(segLon)] for y in range(segLat)]\n",
    "# build data to save intermediate crime segmentation\n",
    "uniqueCrimes = crime_df['Highest Offense Description'].unique().tolist()\n",
    "crime_grid = [\n",
    "    [ ['latIndex', 'lonIndex', 'total'] + uniqueCrimes ], \n",
    "    [ ['latIndex', 'lonIndex', 'total'] + uniqueCrimes ], \n",
    "    [ ['latIndex', 'lonIndex', 'total'] + uniqueCrimes ], \n",
    "    [ ['latIndex', 'lonIndex', 'total'] + uniqueCrimes ], \n",
    "    [ ['latIndex', 'lonIndex', 'total'] + uniqueCrimes ] ]"
   ]
  },
  {
   "cell_type": "code",
   "execution_count": 12,
   "metadata": {},
   "outputs": [
    {
     "name": "stdout",
     "output_type": "stream",
     "text": "building: 199x199"
    }
   ],
   "source": [
    "# segment the data into a grid\n",
    "for lon in range(segLon):\n",
    "    for lat in range(segLat):\n",
    "        print('\\rbuilding: {}'.format(str(lat) + 'x' + str(lon)), end=\"\\r\")\n",
    "        segMinLat = minLat + (delLat * lat)\n",
    "        segMaxLat = segMinLat + delLat\n",
    "        segMinLon = minLon + (delLon * lon)\n",
    "        segMaxLon = segMinLon + delLon\n",
    "        segmented_df[lat][lon] = crime_df[\n",
    "            (crime_df['Latitude']  >  segMinLat) &\n",
    "            (crime_df['Latitude']  <= segMaxLat) &\n",
    "            (crime_df['Longitude'] >  segMinLon) &\n",
    "            (crime_df['Longitude'] <= segMaxLon)]\n",
    "        \n",
    "        crime_grid_rows = [\n",
    "            [ lat, lon ] + ([0] * (1 + len(uniqueCrimes))),\n",
    "            [ lat, lon ] + ([0] * (1 + len(uniqueCrimes))),\n",
    "            [ lat, lon ] + ([0] * (1 + len(uniqueCrimes))),\n",
    "            [ lat, lon ] + ([0] * (1 + len(uniqueCrimes))),\n",
    "            [ lat, lon ] + ([0] * (1 + len(uniqueCrimes))) ]\n",
    "\n",
    "        for _,crime in segmented_df[lat][lon].iterrows():\n",
    "            # calculate total\n",
    "            if 'Crime Index' not in precomputed_ci[lat][lon]:\n",
    "                precomputed_ci[lat][lon]['Crime Index'] = 1\n",
    "            else:\n",
    "                precomputed_ci[lat][lon]['Crime Index'] += 1\n",
    "\n",
    "            # calculate for each crime type\n",
    "            crimeType = crime['Highest Offense Description']\n",
    "            if ('Crime Index - ' + crimeType) not in precomputed_ci[lat][lon]:\n",
    "                precomputed_ci[lat][lon]['Crime Index - ' + crimeType] = 1\n",
    "            else:\n",
    "                precomputed_ci[lat][lon]['Crime Index - ' + crimeType] += 1\n",
    "\n",
    "            # save data to intermediate computation\n",
    "            category = uniqueCrimes.index(crimeType)\n",
    "            crimeYear = crime['occurred_dt'].year\n",
    "            if not crimeYear < 2015 and not crimeYear > 2019:\n",
    "                crime_grid_rows[crimeYear - 2015][2] += 1\n",
    "                crime_grid_rows[crimeYear - 2015][category + 3] += 1\n",
    "        \n",
    "        crime_grid[0].append(crime_grid_rows[0])\n",
    "        crime_grid[1].append(crime_grid_rows[1])\n",
    "        crime_grid[2].append(crime_grid_rows[2])\n",
    "        crime_grid[3].append(crime_grid_rows[3])\n",
    "        crime_grid[4].append(crime_grid_rows[4])"
   ]
  },
  {
   "cell_type": "code",
   "execution_count": null,
   "metadata": {},
   "outputs": [],
   "source": [
    "# save intermediate data\n",
    "currYear = 2015\n",
    "for year_grid in crime_grid:\n",
    "    with open('./data/geo_crime_' + str(currYear) + '.csv', 'w', newline='') as file:\n",
    "        writer = csv.writer(file)\n",
    "        writer.writerows(year_grid)\n",
    "    currYear += 1"
   ]
  }
 ]
}