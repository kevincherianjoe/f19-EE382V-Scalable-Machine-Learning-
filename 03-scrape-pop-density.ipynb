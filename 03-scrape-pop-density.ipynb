{
 "nbformat": 4,
 "nbformat_minor": 2,
 "metadata": {
  "language_info": {
   "name": "python",
   "codemirror_mode": {
    "name": "ipython",
    "version": 3
   },
   "version": "3.7.3"
  },
  "orig_nbformat": 2,
  "file_extension": ".py",
  "mimetype": "text/x-python",
  "name": "python",
  "npconvert_exporter": "python",
  "pygments_lexer": "ipython3",
  "version": 3
 },
 "cells": [
  {
   "cell_type": "code",
   "execution_count": 6,
   "metadata": {},
   "outputs": [],
   "source": [
    "import pandas as pd\n",
    "import urllib\n",
    "import csv\n",
    "\n",
    "from bs4 import BeautifulSoup"
   ]
  },
  {
   "cell_type": "code",
   "execution_count": 7,
   "metadata": {},
   "outputs": [],
   "source": [
    "# constants\n",
    "baseUrl = 'https://texas.hometownlocator.com/zip-codes/data,zipcode,#####.cfm'\n",
    "type1Fields = [\n",
    "    'Total Population',\n",
    "    'Population Density']\n",
    "type2Fields = [\n",
    "    'Population']"
   ]
  },
  {
   "cell_type": "code",
   "execution_count": 9,
   "metadata": {},
   "outputs": [],
   "source": [
    "# load the datasets\n",
    "housing_df = pd.read_csv('data/raw_austin_housing_data_w_crime.csv', low_memory=False)\n",
    "\n",
    "# get list of zipcodes\n",
    "zipCodes = list(housing_df['zip'].unique().astype(int))\n",
    "zipCodes = [ str(int(zip)) for zip in zipCodes ]"
   ]
  },
  {
   "cell_type": "code",
   "execution_count": 10,
   "metadata": {},
   "outputs": [
    {
     "name": "stdout",
     "output_type": "stream",
     "text": "processing 105 of 105."
    }
   ],
   "source": [
    "# iterate through zip codes and extract data\n",
    "zipStats = [ ['Zip'] + type1Fields + type2Fields + [(field + '_proj') for field in type2Fields] ]\n",
    "count = 0\n",
    "for zipCode in zipCodes:\n",
    "    count += 1\n",
    "    print('\\rprocessing {} of {}.'.format(count, len(zipCodes)), end=\"\\r\")\n",
    "    zipData = [ zipCode ]\n",
    "    \n",
    "    # load the page\n",
    "    url = baseUrl.replace('#####', zipCode)\n",
    "    with urllib.request.urlopen(url) as page:\n",
    "        soup = BeautifulSoup(page, 'html.parser')\n",
    "\n",
    "        # parse type1 data fields\n",
    "        for field in type1Fields:\n",
    "            span = soup.find('span', string=field)\n",
    "            if span == None:\n",
    "                zipData.append('err')\n",
    "            else:\n",
    "                val = span.find_parent().find_next_sibling().get_text().replace(',', '')\n",
    "                zipData.append(val)\n",
    "\n",
    "        # parse type2 data fields current\n",
    "        for field in type2Fields:\n",
    "            span = soup.find('span', string=field, attrs={ 'class': 'indent' })\n",
    "            if span == None:\n",
    "                zipData.append('err')\n",
    "            else:\n",
    "                val = span.find_parent().find_next_sibling().get_text().replace('%', '')\n",
    "                zipData.append(val)\n",
    "        \n",
    "        # parse type2 data fields projected\n",
    "        for field in type2Fields:\n",
    "            span = soup.find('span', string=field, attrs={ 'class': 'indent' })\n",
    "            if span == None:\n",
    "                zipData.append('err')\n",
    "            else:\n",
    "                val = span.find_parent().find_next_sibling().find_next_sibling().get_text().replace('%', '')\n",
    "                zipData.append(val)\n",
    "\n",
    "    zipStats.append(zipData)"
   ]
  },
  {
   "cell_type": "code",
   "execution_count": 11,
   "metadata": {},
   "outputs": [],
   "source": [
    "# purge the bad zips\n",
    "zipDataReduced = [ [ data[0], data[2] ] for data in zipStats if data[-1] != 'err' ]\n",
    "\n",
    "# write to file\n",
    "with open('./data/pop_density.csv', 'w', newline='') as file:\n",
    "    writer = csv.writer(file)\n",
    "    writer.writerows(zipDataReduced)"
   ]
  },
  {
   "cell_type": "code",
   "execution_count": 15,
   "metadata": {},
   "outputs": [],
   "source": [
    "# build the population density column\n",
    "popDensities = { data[0]: data[1] for data in zipDataReduced[1:] }\n",
    "housing_df = housing_df[housing_df['zip'].notnull()]\n",
    "housing_df['Population Density'] = housing_df['zip'].apply(lambda x: popDensities[str(int(x))] if str(int(x)) in popDensities else -1)"
   ]
  },
  {
   "cell_type": "code",
   "execution_count": 18,
   "metadata": {},
   "outputs": [],
   "source": [
    "# write to file\n",
    "housing_df.to_csv('./data/raw_austin_housing_data_w_crime_density.csv')"
   ]
  },
  {
   "cell_type": "code",
   "execution_count": null,
   "metadata": {},
   "outputs": [],
   "source": []
  }
 ]
}