{
 "cells": [
  {
   "cell_type": "markdown",
   "metadata": {},
   "source": [
    "# Regression with all transactions included"
   ]
  },
  {
   "cell_type": "code",
   "execution_count": 1,
   "metadata": {},
   "outputs": [],
   "source": [
    "import numpy as np # linear algebra\n",
    "import pandas as pd # data processing, CSV file I/O (e.g. pd.read_csv)\n",
    "import matplotlib.pyplot as plt\n",
    "import seaborn as sns\n",
    "sns.set_style('whitegrid')\n",
    "import xgboost as xgb\n",
    "import warnings\n",
    "warnings.simplefilter(action='ignore')\n",
    "from scipy.optimize import minimize\n",
    "from scipy.optimize import fmin\n",
    "import math\n",
    "from bayes_opt import BayesianOptimization"
   ]
  },
  {
   "cell_type": "markdown",
   "metadata": {},
   "source": [
    "# Loading Data "
   ]
  },
  {
   "cell_type": "code",
   "execution_count": 2,
   "metadata": {},
   "outputs": [
    {
     "name": "stdout",
     "output_type": "stream",
     "text": [
      "Number of Transactions: 24384\n"
     ]
    }
   ],
   "source": [
    "Tot = pd.read_csv('austin_housing_data.csv')\n",
    "print('Number of Transactions: ' + str(len(Tot)))"
   ]
  },
  {
   "cell_type": "code",
   "execution_count": 3,
   "metadata": {},
   "outputs": [
    {
     "data": {
      "text/plain": [
       "Index(['Unnamed: 0', 'city', 'daysOnMarket', 'hoa', 'latitude', 'longitude',\n",
       "       'lotSize', 'salePrice', 'pricePerSqFt', 'daysAftSold', 'sqFt', 'state',\n",
       "       'streetLine', 'daysBtwBldAndSold', 'zip', 'Crime Index', 'idx',\n",
       "       'Population Density', 'park_index', 'schools_index', 'event_index',\n",
       "       'fastfood_index', 'Address', 'Number', '2015 Appraisal',\n",
       "       '2019 Appraisal', '5-year Growth', 'house_age', 'stories_1.0',\n",
       "       'stories_2.0', 'beds_2.0', 'beds_3.0', 'beds_4.0', 'beds_5.0',\n",
       "       'baths_1.0', 'baths_1.5', 'baths_2.0', 'baths_2.5', 'baths_3.0',\n",
       "       'baths_3.5', 'baths_4.0', 'zip_78617.0', 'zip_78653.0', 'zip_78660.0',\n",
       "       'zip_78702.0', 'zip_78703.0', 'zip_78704.0', 'zip_78721.0',\n",
       "       'zip_78722.0', 'zip_78723.0', 'zip_78724.0', 'zip_78725.0',\n",
       "       'zip_78726.0', 'zip_78727.0', 'zip_78728.0', 'zip_78730.0',\n",
       "       'zip_78732.0', 'zip_78733.0', 'zip_78734.0', 'zip_78735.0',\n",
       "       'zip_78736.0', 'zip_78738.0', 'zip_78739.0', 'zip_78741.0',\n",
       "       'zip_78744.0', 'zip_78745.0', 'zip_78747.0', 'zip_78748.0',\n",
       "       'zip_78749.0', 'zip_78750.0', 'zip_78751.0', 'zip_78752.0',\n",
       "       'zip_78753.0', 'zip_78754.0', 'zip_78756.0', 'zip_78757.0',\n",
       "       'zip_78758.0', 'zip_78759.0', 'Crime Index Scaled', 'park_index_scaled',\n",
       "       'school_index_scaled', 'event_index_scaled', 'fastfood_index_scaled'],\n",
       "      dtype='object')"
      ]
     },
     "execution_count": 3,
     "metadata": {},
     "output_type": "execute_result"
    }
   ],
   "source": [
    "# This step randomly sorts the transactions\n",
    "Tot.sample(frac=1)\n",
    "Tot.columns"
   ]
  },
  {
   "cell_type": "code",
   "execution_count": 4,
   "metadata": {},
   "outputs": [
    {
     "data": {
      "text/plain": [
       "Index(['hoa', 'lotSize', 'salePrice', 'daysAftSold', 'sqFt',\n",
       "       'daysBtwBldAndSold', 'Crime Index', 'park_index', 'schools_index',\n",
       "       'event_index', 'fastfood_index', '2015 Appraisal', '2019 Appraisal',\n",
       "       '5-year Growth', 'house_age', 'stories_1.0', 'stories_2.0', 'beds_2.0',\n",
       "       'beds_3.0', 'beds_4.0', 'beds_5.0', 'baths_1.0', 'baths_1.5',\n",
       "       'baths_2.0', 'baths_2.5', 'baths_3.0', 'baths_3.5', 'baths_4.0',\n",
       "       'zip_78617.0', 'zip_78653.0', 'zip_78660.0', 'zip_78702.0',\n",
       "       'zip_78703.0', 'zip_78704.0', 'zip_78721.0', 'zip_78722.0',\n",
       "       'zip_78723.0', 'zip_78724.0', 'zip_78725.0', 'zip_78726.0',\n",
       "       'zip_78727.0', 'zip_78728.0', 'zip_78730.0', 'zip_78732.0',\n",
       "       'zip_78733.0', 'zip_78734.0', 'zip_78735.0', 'zip_78736.0',\n",
       "       'zip_78738.0', 'zip_78739.0', 'zip_78741.0', 'zip_78744.0',\n",
       "       'zip_78745.0', 'zip_78747.0', 'zip_78748.0', 'zip_78749.0',\n",
       "       'zip_78750.0', 'zip_78751.0', 'zip_78752.0', 'zip_78753.0',\n",
       "       'zip_78754.0', 'zip_78756.0', 'zip_78757.0', 'zip_78758.0',\n",
       "       'zip_78759.0', 'Crime Index Scaled', 'park_index_scaled',\n",
       "       'school_index_scaled', 'event_index_scaled', 'fastfood_index_scaled'],\n",
       "      dtype='object')"
      ]
     },
     "execution_count": 4,
     "metadata": {},
     "output_type": "execute_result"
    }
   ],
   "source": [
    "# Eliminate Columns\n",
    "colToElim = ['Unnamed: 0', 'city', 'latitude', 'longitude', 'pricePerSqFt', 'state', 'streetLine', 'zip',  'idx', \n",
    "             'Population Density', 'Address', 'Number', 'daysOnMarket']\n",
    "Tot.drop(colToElim, axis=1, inplace=True)\n",
    "Tot.columns"
   ]
  },
  {
   "cell_type": "code",
   "execution_count": 5,
   "metadata": {},
   "outputs": [
    {
     "name": "stdout",
     "output_type": "stream",
     "text": [
      "Number of Columns: 55\n"
     ]
    },
    {
     "data": {
      "text/plain": [
       "Index(['hoa', 'lotSize', 'salePrice', 'sqFt', 'house_age', 'stories_1.0',\n",
       "       'stories_2.0', 'beds_2.0', 'beds_3.0', 'beds_4.0', 'beds_5.0',\n",
       "       'baths_1.0', 'baths_1.5', 'baths_2.0', 'baths_2.5', 'baths_3.0',\n",
       "       'baths_3.5', 'baths_4.0', 'zip_78617.0', 'zip_78653.0', 'zip_78660.0',\n",
       "       'zip_78702.0', 'zip_78703.0', 'zip_78704.0', 'zip_78721.0',\n",
       "       'zip_78722.0', 'zip_78723.0', 'zip_78724.0', 'zip_78725.0',\n",
       "       'zip_78726.0', 'zip_78727.0', 'zip_78728.0', 'zip_78730.0',\n",
       "       'zip_78732.0', 'zip_78733.0', 'zip_78734.0', 'zip_78735.0',\n",
       "       'zip_78736.0', 'zip_78738.0', 'zip_78739.0', 'zip_78741.0',\n",
       "       'zip_78744.0', 'zip_78745.0', 'zip_78747.0', 'zip_78748.0',\n",
       "       'zip_78749.0', 'zip_78750.0', 'zip_78751.0', 'zip_78752.0',\n",
       "       'zip_78753.0', 'zip_78754.0', 'zip_78756.0', 'zip_78757.0',\n",
       "       'zip_78758.0', 'zip_78759.0'],\n",
       "      dtype='object')"
      ]
     },
     "execution_count": 5,
     "metadata": {},
     "output_type": "execute_result"
    }
   ],
   "source": [
    "aTot = Tot.copy()\n",
    "# Delete columns for testing purposes\n",
    "colToDel = ['daysAftSold', 'daysBtwBldAndSold', 'Crime Index', 'park_index', 'schools_index', 'event_index', 'fastfood_index', \n",
    "            'Crime Index Scaled', '2015 Appraisal', '2019 Appraisal' , '5-year Growth', 'event_index_scaled', 'fastfood_index_scaled',\n",
    "           'park_index_scaled', 'school_index_scaled']\n",
    "aTot.drop(colToDel, axis=1, inplace=True)\n",
    "colBefZip = aTot.shape[1]\n",
    "print(\"Number of Columns: \" + str(colBefZip))\n",
    "aTot.columns"
   ]
  },
  {
   "cell_type": "markdown",
   "metadata": {},
   "source": [
    "# Linear Regression to predict sale price"
   ]
  },
  {
   "cell_type": "code",
   "execution_count": 6,
   "metadata": {},
   "outputs": [
    {
     "name": "stdout",
     "output_type": "stream",
     "text": [
      "{'target': -0.5072333497255505, 'params': {'x': 199.9996423304463}}\n"
     ]
    },
    {
     "data": {
      "text/plain": [
       "Ridge(alpha=199.9996423304463, copy_X=True, fit_intercept=True, max_iter=None,\n",
       "      normalize=False, random_state=None, solver='auto', tol=0.001)"
      ]
     },
     "execution_count": 6,
     "metadata": {},
     "output_type": "execute_result"
    }
   ],
   "source": [
    "# Linear Regression library\n",
    "from scipy.stats import skew\n",
    "from sklearn.linear_model import Ridge, RidgeCV, ElasticNet, LassoCV, LassoLarsCV\n",
    "from sklearn.model_selection import cross_val_score\n",
    "from sklearn.metrics import mean_squared_error\n",
    "\n",
    "\n",
    "# Objective function definition\n",
    "X_train = []\n",
    "y_train = []\n",
    "\n",
    "def target(x):\n",
    "    model = Ridge(alpha = x)\n",
    "    rmse= np.sqrt(-cross_val_score(model, X_train, y_train, scoring=\"neg_mean_squared_error\", cv = 3)).mean()     \n",
    "    return(-rmse)    \n",
    "\n",
    "# Select 80% of the data for training\n",
    "nTot = len(aTot)\n",
    "msk = np.random.rand(nTot) < 0.8\n",
    "\n",
    "a = aTot[msk]\n",
    "na = len(a)\n",
    "ytrain = a['salePrice'].to_frame()\n",
    "a.drop(['salePrice'], axis=1, inplace=True)\n",
    "\n",
    "# The remaining 20% is used for testing\n",
    "b = aTot[~msk]\n",
    "nb = len(b)\n",
    "ytest = b['salePrice'].to_frame()\n",
    "b.drop(['salePrice'], axis=1, inplace=True)\n",
    "\n",
    "\n",
    "c = pd.concat((a, b), sort=False).reset_index(drop=True)\n",
    "numeric_feats = c.dtypes[c.dtypes != \"object\"].index\n",
    "skewed_feats = c[numeric_feats].apply(lambda x: skew(x.dropna())) #compute skewness\n",
    "skewed_feats = skewed_feats[skewed_feats > 0.75]\n",
    "skewed_feats = skewed_feats.index\n",
    "c[skewed_feats] = np.log1p(c[skewed_feats])\n",
    "\n",
    "\n",
    "X_train = c[:na]   \n",
    "X_test = c[na:]\n",
    "\n",
    "y_train = np.log1p(ytrain) \n",
    "y_test = np.log1p(ytest) \n",
    "\n",
    "\n",
    "# define the optimizer\n",
    "pbounds = {'x': (0, 200)}    \n",
    "optimizer = BayesianOptimization(f=target, pbounds=pbounds, verbose=0, random_state=1,)\n",
    "optimizer.maximize(init_points=2,n_iter=50,)\n",
    "print(optimizer.max)   \n",
    "sol = optimizer.max['params']['x']\n",
    "model_ridge = Ridge(alpha = sol)\n",
    "model_ridge.fit(X_train,y_train)  "
   ]
  },
  {
   "cell_type": "code",
   "execution_count": 7,
   "metadata": {
    "scrolled": true
   },
   "outputs": [
    {
     "name": "stdout",
     "output_type": "stream",
     "text": [
      "                 Coef\n",
      "zip_78703.0  0.620370\n",
      "zip_78704.0  0.611962\n",
      "sqFt         0.591022\n",
      "zip_78757.0  0.489416\n",
      "zip_78751.0  0.470517\n",
      "zip_78756.0  0.462942\n",
      "zip_78702.0  0.311635\n",
      "zip_78722.0  0.308071\n",
      "lotSize      0.300647\n",
      "zip_78750.0  0.195597\n",
      "beds_2.0     0.190437\n",
      "zip_78759.0  0.133327\n",
      "zip_78730.0  0.126271\n",
      "zip_78735.0  0.126207\n",
      "baths_4.0    0.121912\n",
      "baths_3.5    0.110365\n",
      "zip_78732.0  0.108303\n",
      "baths_3.0    0.088122\n",
      "zip_78745.0  0.077332\n",
      "zip_78733.0  0.042852\n",
      "zip_78738.0  0.025828\n",
      "zip_78752.0  0.022225\n",
      "zip_78721.0  0.010592\n",
      "zip_78723.0  0.007781\n",
      "stories_2.0  0.003401\n",
      "house_age   -0.000011\n",
      "stories_1.0 -0.003401\n",
      "hoa         -0.005104\n",
      "beds_3.0    -0.006058\n",
      "zip_78734.0 -0.022757\n",
      "zip_78739.0 -0.026920\n",
      "zip_78726.0 -0.049546\n",
      "baths_1.0   -0.056367\n",
      "baths_2.0   -0.067325\n",
      "zip_78749.0 -0.072611\n",
      "beds_4.0    -0.082040\n",
      "baths_2.5   -0.100917\n",
      "zip_78727.0 -0.103517\n",
      "beds_5.0    -0.104197\n",
      "baths_1.5   -0.116449\n",
      "zip_78736.0 -0.141324\n",
      "zip_78747.0 -0.157394\n",
      "zip_78741.0 -0.165307\n",
      "zip_78728.0 -0.192184\n",
      "zip_78753.0 -0.194853\n",
      "zip_78748.0 -0.207061\n",
      "zip_78758.0 -0.247282\n",
      "zip_78754.0 -0.291703\n",
      "zip_78660.0 -0.318687\n",
      "zip_78724.0 -0.325490\n",
      "zip_78725.0 -0.347073\n",
      "zip_78744.0 -0.390665\n",
      "zip_78653.0 -0.439900\n",
      "zip_78617.0 -0.456954\n"
     ]
    }
   ],
   "source": [
    "# Sorting between best and worst zip codes\n",
    "dfCoef = pd.DataFrame(np.transpose(model_ridge.coef_), index =X_train.columns, columns =['Coef']) \n",
    "print(dfCoef.sort_values(by=['Coef'], ascending = False))"
   ]
  },
  {
   "cell_type": "markdown",
   "metadata": {},
   "source": [
    "# Mean Square Error for the Train set"
   ]
  },
  {
   "cell_type": "code",
   "execution_count": 8,
   "metadata": {},
   "outputs": [
    {
     "name": "stdout",
     "output_type": "stream",
     "text": [
      "Train MSE = 0.14170173543168338\n"
     ]
    }
   ],
   "source": [
    "Ypredict = model_ridge.predict(X_train)\n",
    "predictError = y_train -  Ypredict\n",
    "MSE_Train = mean_squared_error(y_train,Ypredict)\n",
    "print('Train MSE = ' + str(MSE_Train))"
   ]
  },
  {
   "cell_type": "markdown",
   "metadata": {},
   "source": [
    "# Mean Square Error for the Testing set"
   ]
  },
  {
   "cell_type": "code",
   "execution_count": 9,
   "metadata": {},
   "outputs": [
    {
     "name": "stdout",
     "output_type": "stream",
     "text": [
      "Test MSE = 0.14127389041898367\n"
     ]
    }
   ],
   "source": [
    "Ypredict = model_ridge.predict(X_test)\n",
    "predictError = y_test -  Ypredict\n",
    "MSE_Test = mean_squared_error(y_test,Ypredict)\n",
    "print('Test MSE = ' + str(MSE_Test))"
   ]
  },
  {
   "cell_type": "markdown",
   "metadata": {},
   "source": [
    "# Here we add one atribute at a time, to measure its effect"
   ]
  },
  {
   "cell_type": "code",
   "execution_count": null,
   "metadata": {},
   "outputs": [
    {
     "name": "stdout",
     "output_type": "stream",
     "text": [
      "daysAftSold\n",
      "{'target': -0.3920674180488537, 'params': {'x': 126.86423881121245}}\n",
      "Train MSE = 0.06856991471846069\n",
      "Test MSE = 0.06945731083931038\n",
      "daysBtwBldAndSold\n",
      "{'target': -0.5087180447731318, 'params': {'x': 199.9996423304463}}\n",
      "Train MSE = 0.13744311840618526\n",
      "Test MSE = 0.14177275402890865\n",
      "Crime Index\n",
      "{'target': -0.5460623983137686, 'params': {'x': 83.4044009405148}}\n",
      "Train MSE = 0.11367850020391096\n",
      "Test MSE = 0.11708383018497433\n",
      "park_index\n",
      "{'target': -0.460078053334864, 'params': {'x': 199.47200673973134}}\n",
      "Train MSE = 0.12348802786544788\n",
      "Test MSE = 0.1223525637531741\n",
      "schools_index\n",
      "{'target': -0.4827001651656444, 'params': {'x': 0.1516044385819315}}\n",
      "Train MSE = 0.10148665916998734\n",
      "Test MSE = 0.1038730960607079\n",
      "event_index\n",
      "{'target': -0.4776816688156184, 'params': {'x': 162.81249403258948}}\n",
      "Train MSE = 0.12332086995158856\n",
      "Test MSE = 0.12217594474722897\n",
      "fastfood_index\n",
      "{'target': -0.4755474060269471, 'params': {'x': 107.48974069637734}}\n",
      "Train MSE = 0.114216358005079\n",
      "Test MSE = 0.1132852761699706\n",
      "Crime Index Scaled\n",
      "{'target': -0.5278102937555437, 'params': {'x': 83.4044009405148}}\n",
      "Train MSE = 0.11512425906763026\n",
      "Test MSE = 0.11689913582389895\n",
      "2015 Appraisal\n",
      "{'target': -0.42127745024146424, 'params': {'x': 199.9999997122822}}\n",
      "Train MSE = 0.1262355014211365\n",
      "Test MSE = 0.12345838083268315\n",
      "2019 Appraisal\n",
      "{'target': -0.4285409209466211, 'params': {'x': 199.99999994936277}}\n",
      "Train MSE = 0.12724270694562478\n",
      "Test MSE = 0.12195027213245596\n",
      "5-year Growth\n",
      "{'target': -0.5040454870858497, 'params': {'x': 199.99988805496443}}\n",
      "Train MSE = 0.1409023173378234\n",
      "Test MSE = 0.14511096195591808\n",
      "event_index_scaled\n",
      "{'target': -0.5091151495832512, 'params': {'x': 199.9992199710418}}\n",
      "Train MSE = 0.14201009094053646\n",
      "Test MSE = 0.1381422748035486\n",
      "fastfood_index_scaled\n"
     ]
    }
   ],
   "source": [
    "results = {'Init' : [MSE_Train, MSE_Test]}\n",
    "for addFeature in colToDel :\n",
    "    print(addFeature)\n",
    "    addTot = aTot.copy()\n",
    "    addTot[addFeature] = Tot[addFeature]\n",
    "    \n",
    "    # Select 80% of the data for training\n",
    "    nTot = len(addTot)\n",
    "    msk = np.random.rand(nTot) < 0.8\n",
    "\n",
    "    a = addTot[msk]\n",
    "    na = len(a)\n",
    "    ytrain = a['salePrice'].to_frame()\n",
    "    a.drop(['salePrice'], axis=1, inplace=True)\n",
    "\n",
    "    # The remaining 20% is used for testing\n",
    "    b = addTot[~msk]\n",
    "    nb = len(b)\n",
    "    ytest = b['salePrice'].to_frame()\n",
    "    b.drop(['salePrice'], axis=1, inplace=True)\n",
    "\n",
    "\n",
    "    c = pd.concat((a, b), sort=False).reset_index(drop=True)\n",
    "    numeric_feats = c.dtypes[c.dtypes != \"object\"].index\n",
    "    skewed_feats = c[numeric_feats].apply(lambda x: skew(x.dropna())) #compute skewness\n",
    "    skewed_feats = skewed_feats[skewed_feats > 0.75]\n",
    "    skewed_feats = skewed_feats.index\n",
    "    c[skewed_feats] = np.log1p(c[skewed_feats])\n",
    "\n",
    "\n",
    "    X_train = c[:na]   \n",
    "    X_test = c[na:]\n",
    "\n",
    "    y_train = np.log1p(ytrain) \n",
    "    y_test = np.log1p(ytest) \n",
    "\n",
    "\n",
    "    # define the optimizer\n",
    "    pbounds = {'x': (0, 200)}\n",
    "    optimizer = BayesianOptimization(f=target, pbounds=pbounds, verbose=0, random_state=1,)\n",
    "    optimizer.maximize(init_points=2,n_iter=50,)\n",
    "    print(optimizer.max)   \n",
    "    sol = optimizer.max['params']['x']\n",
    "    model_ridge = Ridge(alpha = sol)\n",
    "    model_ridge.fit(X_train,y_train)      \n",
    "    \n",
    "    Ypredict = model_ridge.predict(X_train)\n",
    "    predictError = y_train -  Ypredict\n",
    "    MSE_Train = mean_squared_error(y_train,Ypredict)\n",
    "    print('Train MSE = ' + str(MSE_Train))\n",
    "    Ypredict = model_ridge.predict(X_test)\n",
    "    predictError = y_test -  Ypredict\n",
    "    MSE_Test = mean_squared_error(y_test,Ypredict)\n",
    "    print('Test MSE = ' + str(MSE_Test))\n",
    "    results[addFeature] = [MSE_Train, MSE_Test]"
   ]
  },
  {
   "cell_type": "markdown",
   "metadata": {},
   "source": [
    "# Printing the results of how each feature impacts the sale price prediction"
   ]
  },
  {
   "cell_type": "code",
   "execution_count": null,
   "metadata": {},
   "outputs": [],
   "source": [
    "results"
   ]
  },
  {
   "cell_type": "markdown",
   "metadata": {},
   "source": [
    "# Calculation of MSE percent improvement - "
   ]
  },
  {
   "cell_type": "code",
   "execution_count": null,
   "metadata": {},
   "outputs": [],
   "source": [
    "TrMSE = results['Init'][0]\n",
    "TeMSE = results['Init'][1]\n",
    "invTrMSE = 100/TrMSE\n",
    "invTeMSE = 100/TeMSE\n",
    "resPer = {}\n",
    "for (key, value) in results.items() :\n",
    "    TrPer = (value[0] - TrMSE) * invTrMSE\n",
    "    TePer = (value[1] - TeMSE) * invTeMSE    \n",
    "    resPer[key] = [TrPer, TePer]\n",
    "resPer    "
   ]
  },
  {
   "cell_type": "markdown",
   "metadata": {},
   "source": [
    "# Now we repeat the calculation but includying days after sold 'daysAftSold' is the most influential from previous calculations"
   ]
  },
  {
   "cell_type": "code",
   "execution_count": null,
   "metadata": {},
   "outputs": [],
   "source": [
    "aTot = Tot.copy()\n",
    "# Delete columns for testing purposes\n",
    "colToDel = ['daysBtwBldAndSold', 'Crime Index', 'park_index', 'schools_index', 'event_index', 'fastfood_index', \n",
    "            'Crime Index Scaled', '2015 Appraisal', '2019 Appraisal' , '5-year Growth', 'event_index_scaled', 'fastfood_index_scaled',\n",
    "           'park_index_scaled', 'school_index_scaled']\n",
    "aTot.drop(colToDel, axis=1, inplace=True)\n",
    "colBefZip = aTot.shape[1]\n",
    "print(\"Number of Columns: \" + str(colBefZip))\n",
    "aTot.columns"
   ]
  },
  {
   "cell_type": "markdown",
   "metadata": {},
   "source": [
    "# Select 80% of the data for training"
   ]
  },
  {
   "cell_type": "code",
   "execution_count": null,
   "metadata": {},
   "outputs": [],
   "source": [
    "nTot = len(aTot)\n",
    "msk = np.random.rand(nTot) < 0.8\n",
    "\n",
    "a = aTot[msk]\n",
    "na = len(a)\n",
    "ytrain = a['salePrice'].to_frame()\n",
    "a.drop(['salePrice'], axis=1, inplace=True)\n",
    "\n",
    "# The remaining 20% is used for testing\n",
    "b = aTot[~msk]\n",
    "nb = len(b)\n",
    "ytest = b['salePrice'].to_frame()\n",
    "b.drop(['salePrice'], axis=1, inplace=True)\n",
    "\n",
    "\n",
    "c = pd.concat((a, b), sort=False).reset_index(drop=True)\n",
    "numeric_feats = c.dtypes[c.dtypes != \"object\"].index\n",
    "skewed_feats = c[numeric_feats].apply(lambda x: skew(x.dropna())) #compute skewness\n",
    "skewed_feats = skewed_feats[skewed_feats > 0.75]\n",
    "skewed_feats = skewed_feats.index\n",
    "c[skewed_feats] = np.log1p(c[skewed_feats])\n",
    "\n",
    "\n",
    "X_train = c[:na]   \n",
    "X_test = c[na:]\n",
    "\n",
    "y_train = np.log1p(ytrain) \n",
    "y_test = np.log1p(ytest) \n",
    "\n",
    "\n",
    "# define the optimizer\n",
    "pbounds = {'x': (0, 200)}    \n",
    "optimizer = BayesianOptimization(f=target, pbounds=pbounds, verbose=0, random_state=1,)\n",
    "optimizer.maximize(init_points=2,n_iter=50,)\n",
    "print(optimizer.max)   \n",
    "sol = optimizer.max['params']['x']\n",
    "model_ridge = Ridge(alpha = sol)\n",
    "model_ridge.fit(X_train,y_train)  "
   ]
  },
  {
   "cell_type": "markdown",
   "metadata": {},
   "source": [
    "# Sorting between best and worst zip codes"
   ]
  },
  {
   "cell_type": "code",
   "execution_count": null,
   "metadata": {},
   "outputs": [],
   "source": [
    "dfCoef = pd.DataFrame(np.transpose(model_ridge.coef_), index =X_train.columns, columns =['Coef']) \n",
    "print(dfCoef.sort_values(by=['Coef'], ascending = False))"
   ]
  },
  {
   "cell_type": "code",
   "execution_count": null,
   "metadata": {},
   "outputs": [],
   "source": [
    "# Mean Square Error for the Train set\n",
    "Ypredict = model_ridge.predict(X_train)\n",
    "predictError = y_train -  Ypredict\n",
    "MSE_Train = mean_squared_error(y_train,Ypredict)\n",
    "print('Train MSE = ' + str(MSE_Train))"
   ]
  },
  {
   "cell_type": "code",
   "execution_count": null,
   "metadata": {},
   "outputs": [],
   "source": [
    "# Mean Square Error for the Testing set\n",
    "Ypredict = model_ridge.predict(X_test)\n",
    "predictError = y_test -  Ypredict\n",
    "MSE_Test = mean_squared_error(y_test,Ypredict)\n",
    "print('Test MSE = ' + str(MSE_Test))"
   ]
  },
  {
   "cell_type": "code",
   "execution_count": null,
   "metadata": {},
   "outputs": [],
   "source": [
    "# Here we add one atribute at a time, to measure its effect\n",
    "results = {'Init' : [MSE_Train, MSE_Test]}\n",
    "for addFeature in colToDel :\n",
    "    print(addFeature)\n",
    "    addTot = aTot.copy()\n",
    "    addTot[addFeature] = Tot[addFeature]\n",
    "    \n",
    "    # Select 80% of the data for training\n",
    "    nTot = len(addTot)\n",
    "    msk = np.random.rand(nTot) < 0.8\n",
    "\n",
    "    a = addTot[msk]\n",
    "    na = len(a)\n",
    "    ytrain = a['salePrice'].to_frame()\n",
    "    a.drop(['salePrice'], axis=1, inplace=True)\n",
    "\n",
    "    # The remaining 20% is used for testing\n",
    "    b = addTot[~msk]\n",
    "    nb = len(b)\n",
    "    ytest = b['salePrice'].to_frame()\n",
    "    b.drop(['salePrice'], axis=1, inplace=True)\n",
    "\n",
    "\n",
    "    c = pd.concat((a, b), sort=False).reset_index(drop=True)\n",
    "    numeric_feats = c.dtypes[c.dtypes != \"object\"].index\n",
    "    skewed_feats = c[numeric_feats].apply(lambda x: skew(x.dropna())) #compute skewness\n",
    "    skewed_feats = skewed_feats[skewed_feats > 0.75]\n",
    "    skewed_feats = skewed_feats.index\n",
    "    c[skewed_feats] = np.log1p(c[skewed_feats])\n",
    "\n",
    "\n",
    "    X_train = c[:na]   \n",
    "    X_test = c[na:]\n",
    "\n",
    "    y_train = np.log1p(ytrain) \n",
    "    y_test = np.log1p(ytest) \n",
    "\n",
    "\n",
    "    # define the optimizer\n",
    "    pbounds = {'x': (0, 200)}\n",
    "    optimizer = BayesianOptimization(f=target, pbounds=pbounds, verbose=0, random_state=1,)\n",
    "    optimizer.maximize(init_points=2,n_iter=50,)\n",
    "    print(optimizer.max)   \n",
    "    sol = optimizer.max['params']['x']\n",
    "    model_ridge = Ridge(alpha = sol)\n",
    "    model_ridge.fit(X_train,y_train)      \n",
    "    \n",
    "    Ypredict = model_ridge.predict(X_train)\n",
    "    predictError = y_train -  Ypredict\n",
    "    MSE_Train = mean_squared_error(y_train,Ypredict)\n",
    "    print('Train MSE = ' + str(MSE_Train))\n",
    "    Ypredict = model_ridge.predict(X_test)\n",
    "    predictError = y_test -  Ypredict\n",
    "    MSE_Test = mean_squared_error(y_test,Ypredict)\n",
    "    print('Test MSE = ' + str(MSE_Test))\n",
    "    results[addFeature] = [MSE_Train, MSE_Test]"
   ]
  },
  {
   "cell_type": "code",
   "execution_count": null,
   "metadata": {},
   "outputs": [],
   "source": [
    "# Printing the results\n",
    "results"
   ]
  },
  {
   "cell_type": "code",
   "execution_count": null,
   "metadata": {},
   "outputs": [],
   "source": [
    "# Calculation of MSE percent improvement - \n",
    "TrMSE = results['Init'][0]\n",
    "TeMSE = results['Init'][1]\n",
    "invTrMSE = 100/TrMSE\n",
    "invTeMSE = 100/TeMSE\n",
    "resPer = {}\n",
    "for (key, value) in results.items() :\n",
    "    TrPer = (value[0] - TrMSE) * invTrMSE\n",
    "    TePer = (value[1] - TeMSE) * invTeMSE    \n",
    "    resPer[key] = [TrPer, TePer]\n",
    "resPer    "
   ]
  },
  {
   "cell_type": "markdown",
   "metadata": {},
   "source": [
    "# Repat the calculation but includying Crime Index as the most influential from last calculations"
   ]
  },
  {
   "cell_type": "code",
   "execution_count": null,
   "metadata": {},
   "outputs": [],
   "source": [
    "aTot = Tot.copy()\n",
    "# Eliminate columns with no valuable info (now we include )\n",
    "colToDel = ['daysBtwBldAndSold', 'park_index', 'schools_index', 'event_index', 'fastfood_index', \n",
    "            'Crime Index Scaled', '2015 Appraisal', '2019 Appraisal' , '5-year Growth', 'event_index_scaled', 'fastfood_index_scaled',\n",
    "           'park_index_scaled', 'school_index_scaled']\n",
    "aTot.drop(colToDel, axis=1, inplace=True)\n",
    "colBefZip = aTot.shape[1]\n",
    "print(\"Number of Columns: \" + str(colBefZip))\n",
    "print(aTot.dtypes)"
   ]
  },
  {
   "cell_type": "code",
   "execution_count": null,
   "metadata": {},
   "outputs": [],
   "source": [
    "# Objective function definition\n",
    "X_train = []\n",
    "y_train = []\n",
    "\n",
    "def target(x):\n",
    "    model = Ridge(alpha = x)\n",
    "    rmse= np.sqrt(-cross_val_score(model, X_train, y_train, scoring=\"neg_mean_squared_error\", cv = 3)).mean()     \n",
    "    return(-rmse)    \n",
    "\n",
    "# Select 80% of the data for training\n",
    "nTot = len(aTot)\n",
    "msk = np.random.rand(nTot) < 0.8\n",
    "\n",
    "a = aTot[msk]\n",
    "na = len(a)\n",
    "ytrain = a['salePrice'].to_frame()\n",
    "a.drop(['salePrice'], axis=1, inplace=True)\n",
    "\n",
    "# The remaining 20% is used for testing\n",
    "b = aTot[~msk]\n",
    "nb = len(b)\n",
    "ytest = b['salePrice'].to_frame()\n",
    "b.drop(['salePrice'], axis=1, inplace=True)\n",
    "\n",
    "\n",
    "c = pd.concat((a, b), sort=False).reset_index(drop=True)\n",
    "numeric_feats = c.dtypes[c.dtypes != \"object\"].index\n",
    "skewed_feats = c[numeric_feats].apply(lambda x: skew(x.dropna())) #compute skewness\n",
    "skewed_feats = skewed_feats[skewed_feats > 0.75]\n",
    "skewed_feats = skewed_feats.index\n",
    "c[skewed_feats] = np.log1p(c[skewed_feats])\n",
    "\n",
    "\n",
    "X_train = c[:na]   \n",
    "X_test = c[na:]\n",
    "\n",
    "y_train = np.log1p(ytrain) \n",
    "y_test = np.log1p(ytest) \n",
    "\n",
    "\n",
    "# define the optimizer\n",
    "pbounds = {'x': (0, 200)}    \n",
    "optimizer = BayesianOptimization(f=target, pbounds=pbounds, verbose=0, random_state=1,)\n",
    "optimizer.maximize(init_points=2,n_iter=50,)\n",
    "print(optimizer.max)   \n",
    "sol = optimizer.max['params']['x']\n",
    "model_ridge = Ridge(alpha = sol)\n",
    "model_ridge.fit(X_train,y_train)  "
   ]
  },
  {
   "cell_type": "code",
   "execution_count": null,
   "metadata": {},
   "outputs": [],
   "source": [
    "# Sorting between best and worst zip codes\n",
    "dfCoef = pd.DataFrame(np.transpose(model_ridge.coef_), index =X_train.columns, columns =['Coef']) \n",
    "print(dfCoef.sort_values(by=['Coef'], ascending = False))"
   ]
  },
  {
   "cell_type": "code",
   "execution_count": null,
   "metadata": {},
   "outputs": [],
   "source": [
    "# Mean Square Error for the Train set\n",
    "Ypredict = model_ridge.predict(X_train)\n",
    "predictError = y_train -  Ypredict\n",
    "MSE_Train = mean_squared_error(y_train,Ypredict)\n",
    "print('Train MSE = ' + str(MSE_Train))"
   ]
  },
  {
   "cell_type": "code",
   "execution_count": null,
   "metadata": {},
   "outputs": [],
   "source": [
    "# Mean Square Error for the Testing set\n",
    "Ypredict = model_ridge.predict(X_test)\n",
    "predictError = y_test -  Ypredict\n",
    "MSE_Test = mean_squared_error(y_test,Ypredict)\n",
    "print('Test MSE = ' + str(MSE_Test))"
   ]
  },
  {
   "cell_type": "code",
   "execution_count": null,
   "metadata": {},
   "outputs": [],
   "source": [
    "# Here we add one atribute at a time, to measure its effect\n",
    "results = {'Init' : [MSE_Train, MSE_Test]}\n",
    "for addFeature in colToDel :\n",
    "    print(addFeature)\n",
    "    addTot = aTot.copy()\n",
    "    addTot[addFeature] = Tot[addFeature]\n",
    "    \n",
    "    # Select 80% of the data for training\n",
    "    nTot = len(addTot)\n",
    "    msk = np.random.rand(nTot) < 0.8\n",
    "\n",
    "    a = addTot[msk]\n",
    "    na = len(a)\n",
    "    ytrain = a['salePrice'].to_frame()\n",
    "    a.drop(['salePrice'], axis=1, inplace=True)\n",
    "\n",
    "    # The remaining 20% is used for testing\n",
    "    b = addTot[~msk]\n",
    "    nb = len(b)\n",
    "    ytest = b['salePrice'].to_frame()\n",
    "    b.drop(['salePrice'], axis=1, inplace=True)\n",
    "\n",
    "\n",
    "    c = pd.concat((a, b), sort=False).reset_index(drop=True)\n",
    "    numeric_feats = c.dtypes[c.dtypes != \"object\"].index\n",
    "    skewed_feats = c[numeric_feats].apply(lambda x: skew(x.dropna())) #compute skewness\n",
    "    skewed_feats = skewed_feats[skewed_feats > 0.75]\n",
    "    skewed_feats = skewed_feats.index\n",
    "    c[skewed_feats] = np.log1p(c[skewed_feats])\n",
    "\n",
    "\n",
    "    X_train = c[:na]   \n",
    "    X_test = c[na:]\n",
    "\n",
    "    y_train = np.log1p(ytrain) \n",
    "    y_test = np.log1p(ytest) \n",
    "\n",
    "\n",
    "    # define the optimizer\n",
    "    pbounds = {'x': (0, 200)}\n",
    "    optimizer = BayesianOptimization(f=target, pbounds=pbounds, verbose=0, random_state=1,)\n",
    "    optimizer.maximize(init_points=2,n_iter=50,)\n",
    "    print(optimizer.max)   \n",
    "    sol = optimizer.max['params']['x']\n",
    "    model_ridge = Ridge(alpha = sol)\n",
    "    model_ridge.fit(X_train,y_train)      \n",
    "    \n",
    "    Ypredict = model_ridge.predict(X_train)\n",
    "    predictError = y_train -  Ypredict\n",
    "    MSE_Train = mean_squared_error(y_train,Ypredict)\n",
    "    print('Train MSE = ' + str(MSE_Train))\n",
    "    Ypredict = model_ridge.predict(X_test)\n",
    "    predictError = y_test -  Ypredict\n",
    "    MSE_Test = mean_squared_error(y_test,Ypredict)\n",
    "    print('Test MSE = ' + str(MSE_Test))\n",
    "    results[addFeature] = [MSE_Train, MSE_Test]"
   ]
  },
  {
   "cell_type": "code",
   "execution_count": null,
   "metadata": {},
   "outputs": [],
   "source": []
  }
 ],
 "metadata": {
  "kernelspec": {
   "display_name": "Python 3",
   "language": "python",
   "name": "python3"
  },
  "language_info": {
   "codemirror_mode": {
    "name": "ipython",
    "version": 3
   },
   "file_extension": ".py",
   "mimetype": "text/x-python",
   "name": "python",
   "nbconvert_exporter": "python",
   "pygments_lexer": "ipython3",
   "version": "3.7.4"
  }
 },
 "nbformat": 4,
 "nbformat_minor": 2
}
